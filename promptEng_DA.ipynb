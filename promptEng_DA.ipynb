{
  "nbformat": 4,
  "nbformat_minor": 0,
  "metadata": {
    "colab": {
      "provenance": [],
      "authorship_tag": "ABX9TyOUqbRKmoX3Dwq1MGz/OHGP",
      "include_colab_link": true
    },
    "kernelspec": {
      "name": "python3",
      "display_name": "Python 3"
    },
    "language_info": {
      "name": "python"
    }
  },
  "cells": [
    {
      "cell_type": "markdown",
      "metadata": {
        "id": "view-in-github",
        "colab_type": "text"
      },
      "source": [
        "<a href=\"https://colab.research.google.com/github/adnanagbaria/DataAnalytics/blob/main/promptEng_DA.ipynb\" target=\"_parent\"><img src=\"https://colab.research.google.com/assets/colab-badge.svg\" alt=\"Open In Colab\"/></a>"
      ]
    },
    {
      "cell_type": "markdown",
      "source": [
        "# Importing Data to Google Colab\n",
        "There are several ways to upload data to Colab. We present here two ways:\n",
        "## Mount Google Drive\n",
        "First we need to mount to goodle Drive. Then, upload the data using pandas (in Python).\n",
        "\n",
        "**Example:**\n",
        "Upload the data file, called BigmacPrice.csv, from my Google Drive on the directort \"MyDrive/Colab NoteBooks/dataset\"\n",
        "\n",
        "file_name = \"My Drive/Colab NoteBooks/dataset/BigmacPrice.csv\""
      ],
      "metadata": {
        "id": "VB2vr29TUEXG"
      }
    },
    {
      "cell_type": "code",
      "source": [
        "# prompt: mount to my google drive\n",
        "\n",
        "from google.colab import drive\n",
        "drive.mount('/content/drive')"
      ],
      "metadata": {
        "colab": {
          "base_uri": "https://localhost:8080/"
        },
        "id": "rJOVPqu8QrCn",
        "outputId": "54c562d8-cd78-4439-8607-91f4d84bf9b3"
      },
      "execution_count": 1,
      "outputs": [
        {
          "output_type": "stream",
          "name": "stdout",
          "text": [
            "Mounted at /content/drive\n"
          ]
        }
      ]
    },
    {
      "cell_type": "code",
      "source": [
        "# prompt: read the csv file \"My Drive/Colab Notebooks/dataset/BigmacPrice.csv\"\n",
        "\n",
        "import pandas as pd\n",
        "\n",
        "file_name = \"My Drive/Colab Notebooks/dataset/BigmacPrice.csv\"\n",
        "file_path = '/content/drive/' + file_name\n",
        "\n",
        "df = pd.read_csv(file_path)\n",
        "print(df.head())"
      ],
      "metadata": {
        "colab": {
          "base_uri": "https://localhost:8080/"
        },
        "id": "tTC-_S89Q2LX",
        "outputId": "975446fe-b559-475e-8d40-0e474248745e"
      },
      "execution_count": 7,
      "outputs": [
        {
          "output_type": "stream",
          "name": "stdout",
          "text": [
            "         date currency_code  local_price  dollar_ex  dollar_price\n",
            "0  01/04/2000           ARS         2.50          1          2.50\n",
            "1  01/04/2000           AUD         2.59          1          2.59\n",
            "2  01/04/2000           BRL         2.95          1          2.95\n",
            "3  01/04/2000           GBP         1.90          1          1.90\n",
            "4  01/04/2000           CAD         2.85          1          2.85\n"
          ]
        }
      ]
    }
  ]
}